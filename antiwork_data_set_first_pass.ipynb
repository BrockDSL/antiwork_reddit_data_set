{
  "nbformat": 4,
  "nbformat_minor": 0,
  "metadata": {
    "colab": {
      "name": "antiwork_data_set_first_pass",
      "provenance": [],
      "collapsed_sections": [],
      "authorship_tag": "ABX9TyPIRlUzHMWagNknIi4l3kqB",
      "include_colab_link": true
    },
    "kernelspec": {
      "name": "python3",
      "display_name": "Python 3"
    },
    "language_info": {
      "name": "python"
    }
  },
  "cells": [
    {
      "cell_type": "markdown",
      "metadata": {
        "id": "view-in-github",
        "colab_type": "text"
      },
      "source": [
        "<a href=\"https://colab.research.google.com/github/BrockDSL/antiwork_reddit_data_set/blob/main/antiwork_data_set_first_pass.ipynb\" target=\"_parent\"><img src=\"https://colab.research.google.com/assets/colab-badge.svg\" alt=\"Open In Colab\"/></a>"
      ]
    },
    {
      "cell_type": "markdown",
      "source": [
        "# r/antiwork first pass of data\n",
        "\n",
        "headers etc grabbed with [https://github.com/Jabb0/SubredditDownloader](https://github.com/Jabb0/SubredditDownloader)\n",
        "\n",
        "info is kept in an SQLite database in [github repo](https://github.com/BrockDSL/antiwork_reddit_data_set)\n",
        "\n",
        "This does inital grab of data and clean-up"
      ],
      "metadata": {
        "id": "PyFaNQuWH2ND"
      }
    },
    {
      "cell_type": "code",
      "source": [
        "import pandas as pd\n",
        "import requests\n",
        "import sqlite3\n",
        "\n",
        "from datetime import datetime\n",
        "from dateutil.tz import tzutc, tzlocal\n",
        "from google.colab import files\n",
        "\n",
        "print(\"Libraries loaded\")\n",
        "\n",
        "\n",
        "#This cell will open the sqlite file load and process it\n",
        "#it will take at least a minute for this cell to complete\n",
        "\n",
        "\n",
        "#grab file and make connection\n",
        "!wget -O anti-work.db https://github.com/BrockDSL/antiwork_reddit_data_set/blob/main/anti-work.db?raw=true\n",
        "\n",
        "con = sqlite3.connect(\"anti-work.db\")\n",
        "adf = pd.read_sql_query(\"SELECT * FROM submissions\",con)\n",
        "\n",
        "\n",
        "#Un-needed columns\n",
        "del(adf['downloaded'])\n",
        "del(adf['download_file'])\n",
        "del(adf['downloaded_at'])\n",
        "\n",
        "#Drop Jan 1 posts\n",
        "adf = adf[adf['created_utc'] < 1640995200]\n",
        "adf = adf.reset_index(drop=True)\n",
        "\n",
        "print(\"Full length of dataset: \",len(adf))\n",
        "print(\"Number of deleted posts: \", len(adf[ adf['author'] == '[deleted]']))\n",
        "\n",
        "#Drop deleted posts\n",
        "adf = adf.drop(adf[ adf['author'] == '[deleted]'].index)\n",
        "adf = adf.reset_index(drop=True)\n",
        "print(\"New length of dataset: \",len(adf))\n",
        "\n",
        "#Converting UTC to timestmp\n",
        "dates = []\n",
        "for row in adf.itertuples(index=False):\n",
        "  dates.append(pd.to_datetime(row.created_utc,unit='s'))\n",
        "\n",
        "dates_df = pd.DataFrame(dates,columns = [\"timestamp\"])\n",
        "adf = adf.join(dates_df)\n",
        "\n",
        "#Link to post\n",
        "\n",
        "post_url = []\n",
        "\n",
        "for row in adf.itertuples(index=False):\n",
        "  post_url.append(\"https://reddit.com/\"+row.id)\n",
        "\n",
        "post_url = pd.DataFrame(post_url,columns = [\"post_url\"])\n",
        "adf = adf.join(post_url)\n",
        "\n",
        "#redo columns\n",
        "adf = adf.reindex(columns=['timestamp', 'post_url','id','author','title','url','upvote_ratio','score','removed_by_category','created_utc'])\n",
        "\n",
        "#sort oldest to newest\n",
        "adf = adf.sort_values(by=['created_utc'],ignore_index=True)\n",
        "\n",
        "\n",
        "#Download final dataset\n",
        "adf.to_csv(\"antiwork.csv\",index=False)\n",
        "files.download(\"antiwork.csv\")\n",
        "\n",
        "\n",
        "print(\"Dataset Constructed\")"
      ],
      "metadata": {
        "colab": {
          "base_uri": "https://localhost:8080/"
        },
        "id": "xa0zmnkRIX6u",
        "outputId": "a37a5575-399e-4587-f9ff-c2e1cfbfa212"
      },
      "execution_count": 150,
      "outputs": [
        {
          "output_type": "stream",
          "name": "stdout",
          "text": [
            "--2022-03-04 15:12:42--  https://github.com/BrockDSL/antiwork_reddit_data_set/blob/main/anti-work.db?raw=true\n",
            "Resolving github.com (github.com)... 13.114.40.48\n",
            "Connecting to github.com (github.com)|13.114.40.48|:443... connected.\n",
            "HTTP request sent, awaiting response... 302 Found\n",
            "Location: https://github.com/BrockDSL/antiwork_reddit_data_set/raw/main/anti-work.db [following]\n",
            "--2022-03-04 15:12:42--  https://github.com/BrockDSL/antiwork_reddit_data_set/raw/main/anti-work.db\n",
            "Reusing existing connection to github.com:443.\n",
            "HTTP request sent, awaiting response... 302 Found\n",
            "Location: https://raw.githubusercontent.com/BrockDSL/antiwork_reddit_data_set/main/anti-work.db [following]\n",
            "--2022-03-04 15:12:42--  https://raw.githubusercontent.com/BrockDSL/antiwork_reddit_data_set/main/anti-work.db\n",
            "Resolving raw.githubusercontent.com (raw.githubusercontent.com)... 185.199.108.133, 185.199.109.133, 185.199.110.133, ...\n",
            "Connecting to raw.githubusercontent.com (raw.githubusercontent.com)|185.199.108.133|:443... connected.\n",
            "HTTP request sent, awaiting response... 200 OK\n",
            "Length: 28196864 (27M) [application/octet-stream]\n",
            "Saving to: ‘anti-work.db’\n",
            "\n",
            "anti-work.db        100%[===================>]  26.89M   111MB/s    in 0.2s    \n",
            "\n",
            "2022-03-04 15:12:43 (111 MB/s) - ‘anti-work.db’ saved [28196864/28196864]\n",
            "\n",
            "Full length of dataset:  118959\n",
            "Number of deleted posts:  34565\n",
            "New length of dataset:  84394\n"
          ]
        }
      ]
    }
  ]
}