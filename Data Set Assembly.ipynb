{
 "cells": [
  {
   "cell_type": "markdown",
   "metadata": {},
   "source": [
    "# Data Set Assembly\n",
    "\n",
    "Will read through `pickle` files saved from the previous step and load into a dataframe that can then be saved as composite dataframes."
   ]
  },
  {
   "cell_type": "code",
   "execution_count": 51,
   "metadata": {},
   "outputs": [
    {
     "name": "stdout",
     "output_type": "stream",
     "text": [
      "Loading Libraries and dataset... \n"
     ]
    }
   ],
   "source": [
    "\n",
    "import pandas as pd\n",
    "import os\n",
    "\n",
    "pd.set_option('display.max_colwidth', False)\n",
    "pd.set_option('display.max_columns', None)\n",
    "pd.set_option('display.max_rows', 200)\n",
    "\n",
    "\n",
    "import praw\n",
    "import pickle\n",
    "import pprint\n",
    "\n",
    "print(\"Loading Libraries and dataset... \")"
   ]
  },
  {
   "cell_type": "code",
   "execution_count": 33,
   "metadata": {},
   "outputs": [],
   "source": [
    "#All attributes possible\n",
    "#sub = pickle.load(open(\"raw_data/rt09f1.pkl\",\"rb\"))\n",
    "#vars(sub)"
   ]
  },
  {
   "cell_type": "code",
   "execution_count": 52,
   "metadata": {},
   "outputs": [],
   "source": [
    "fields_to_keep = [\n",
    " 'all_awardings',\n",
    " #'allow_live_comments',\n",
    " #'approved_at_utc',\n",
    " #'approved_by',\n",
    " #'archived',\n",
    " 'author',\n",
    " #'author_flair_background_color',\n",
    " #'author_flair_css_class',\n",
    " #'author_flair_richtext',\n",
    " #'author_flair_template_id',\n",
    " #'author_flair_text',\n",
    " #'author_flair_text_color',\n",
    " #'author_flair_type',\n",
    " #'author_fullname',\n",
    " #'author_is_blocked',\n",
    " #'author_patreon_flair',\n",
    " #'author_premium',\n",
    " 'award',\n",
    " 'awarders',\n",
    " 'banned_at_utc',\n",
    " 'banned_by',\n",
    " 'can_gild',\n",
    " 'can_mod_post',\n",
    " 'category',\n",
    " 'clear_vote',\n",
    " 'clicked',\n",
    " 'comment_limit',\n",
    " 'comment_sort',\n",
    " 'comments',\n",
    " 'content_categories',\n",
    " 'contest_mode',\n",
    " 'created',\n",
    " 'created_utc',\n",
    " 'crosspost',\n",
    " 'delete',\n",
    " 'disable_inbox_replies',\n",
    " 'discussion_type',\n",
    " 'distinguished',\n",
    " 'domain',\n",
    " 'downs',\n",
    " 'downvote',\n",
    " 'duplicates',\n",
    " 'edit',\n",
    " 'edited',\n",
    " 'enable_inbox_replies',\n",
    " 'flair',\n",
    " 'fullname',\n",
    " 'gild',\n",
    " 'gilded',\n",
    " 'gildings',\n",
    " 'hidden',\n",
    " 'hide',\n",
    " 'hide_score',\n",
    " 'id',\n",
    " 'id_from_url',\n",
    " 'is_created_from_ads_ui',\n",
    " 'is_crosspostable',\n",
    " 'is_meta',\n",
    " 'is_original_content',\n",
    " 'is_reddit_media_domain',\n",
    " 'is_robot_indexable',\n",
    " 'is_self',\n",
    " 'is_video',\n",
    " 'likes',\n",
    " #'link_flair_background_color',\n",
    " #'link_flair_css_class',\n",
    " #'link_flair_richtext',\n",
    " #'link_flair_text',\n",
    " #'link_flair_text_color',\n",
    " #'link_flair_type',\n",
    " 'locked',\n",
    " 'mark_visited',\n",
    " 'media',\n",
    " 'media_embed',\n",
    " 'media_only',\n",
    " 'mod',\n",
    " 'mod_note',\n",
    " 'mod_reason_by',\n",
    " 'mod_reason_title',\n",
    " 'mod_reports',\n",
    " 'name',\n",
    " 'no_follow',\n",
    " 'num_comments',\n",
    " 'num_crossposts',\n",
    " 'num_duplicates',\n",
    " 'num_reports',\n",
    " 'over_18',\n",
    " 'parent_whitelist_status',\n",
    " 'parse',\n",
    " 'permalink',\n",
    " 'pinned',\n",
    " 'pwls',\n",
    " 'quarantine',\n",
    " 'removal_reason',\n",
    " 'removed_by',\n",
    " 'removed_by_category',\n",
    " 'reply',\n",
    " 'report',\n",
    " 'report_reasons',\n",
    " 'save',\n",
    " 'saved',\n",
    " 'score',\n",
    " 'secure_media',\n",
    " 'secure_media_embed',\n",
    " 'selftext',\n",
    " #'selftext_html',\n",
    " 'send_replies',\n",
    " 'shortlink',\n",
    " 'spoiler',\n",
    " 'stickied',\n",
    " #'subreddit',\n",
    " #'subreddit_id',\n",
    " #'subreddit_name_prefixed',\n",
    " #'subreddit_subscribers',\n",
    " #'subreddit_type',\n",
    " #'suggested_sort',\n",
    " #'thumbnail',\n",
    " #'thumbnail_height',\n",
    " #'thumbnail_width',\n",
    " 'title',\n",
    " 'top_awarded_type',\n",
    " 'total_awards_received',\n",
    " 'treatment_tags',\n",
    " 'unhide',\n",
    " 'unsave',\n",
    " 'ups',\n",
    " 'upvote',\n",
    " 'upvote_ratio',\n",
    " 'url',\n",
    " 'user_reports',\n",
    " 'view_count',\n",
    " 'visited',\n",
    " 'whitelist_status',\n",
    " 'wls'\n",
    "]\n"
   ]
  },
  {
   "cell_type": "code",
   "execution_count": 53,
   "metadata": {},
   "outputs": [
    {
     "name": "stdout",
     "output_type": "stream",
     "text": [
      "1000\n",
      "2000\n",
      "3000\n",
      "4000\n",
      "5000\n",
      "6000\n",
      "7000\n",
      "8000\n",
      "9000\n",
      "10000\n",
      "11000\n",
      "12000\n",
      "13000\n",
      "14000\n",
      "15000\n",
      "16000\n",
      "17000\n",
      "18000\n",
      "19000\n",
      "20000\n",
      "21000\n",
      "22000\n",
      "23000\n",
      "24000\n",
      "25000\n",
      "26000\n",
      "27000\n",
      "28000\n",
      "29000\n",
      "30000\n",
      "31000\n",
      "32000\n",
      "33000\n",
      "34000\n",
      "35000\n",
      "36000\n",
      "37000\n",
      "38000\n",
      "39000\n",
      "40000\n",
      "41000\n",
      "42000\n",
      "43000\n",
      "44000\n",
      "45000\n",
      "46000\n",
      "47000\n",
      "48000\n",
      "49000\n",
      "50000\n",
      "51000\n",
      "52000\n",
      "53000\n",
      "54000\n",
      "55000\n",
      "56000\n",
      "57000\n",
      "58000\n",
      "59000\n",
      "60000\n",
      "61000\n",
      "62000\n",
      "63000\n",
      "64000\n",
      "65000\n",
      "66000\n",
      "67000\n",
      "68000\n",
      "69000\n",
      "70000\n",
      "71000\n",
      "72000\n",
      "73000\n",
      "74000\n",
      "75000\n",
      "76000\n",
      "77000\n",
      "78000\n",
      "79000\n",
      "80000\n",
      "81000\n",
      "82000\n",
      "83000\n",
      "84000\n",
      "done\n"
     ]
    }
   ],
   "source": [
    "#Whole Dataset assemble\n",
    "path = os.getcwd() + \"/raw_data\"\n",
    "\n",
    "total = []\n",
    "problems = []\n",
    "count = 0\n",
    "\n",
    "for root,dirs,files in os.walk(path):\n",
    "\n",
    "    for f in files:\n",
    "    \n",
    "        count+=1\n",
    "        if count % 1000 == 0:\n",
    "            print(count)\n",
    "        \n",
    "        try:\n",
    "            \n",
    "            sub = pickle.load(open(root+\"/\"+f,\"rb\"))\n",
    "            line = []\n",
    "            \n",
    "            for attrib in fields_to_keep:\n",
    "                entry = str(getattr(sub,attrib))\n",
    "                line.append(entry)\n",
    "            \n",
    "            total.append(line)\n",
    "            \n",
    "        except:\n",
    "            problems.append(f)\n",
    "            \n",
    "print('done')"
   ]
  },
  {
   "cell_type": "code",
   "execution_count": 54,
   "metadata": {},
   "outputs": [],
   "source": [
    "ds_build = pd.DataFrame(total,columns=fields_to_keep)"
   ]
  },
  {
   "cell_type": "code",
   "execution_count": 55,
   "metadata": {},
   "outputs": [],
   "source": [
    "ds_build_2 = ds_build"
   ]
  },
  {
   "cell_type": "code",
   "execution_count": 56,
   "metadata": {},
   "outputs": [],
   "source": [
    "#Add column with readable timestamp\n",
    "\n",
    "#Converting UTC to timestmp\n",
    "dates = []\n",
    "for row in ds_build_2.itertuples(index=False):\n",
    "  dates.append(pd.to_datetime(row.created_utc,unit='s'))\n",
    "\n",
    "dates_df = pd.DataFrame(dates,columns = [\"timestamp\"])\n",
    "ds_build_2 = ds_build_2.join(dates_df)"
   ]
  },
  {
   "cell_type": "code",
   "execution_count": null,
   "metadata": {},
   "outputs": [],
   "source": [
    "ds_build_2.sample(2)"
   ]
  },
  {
   "cell_type": "code",
   "execution_count": 57,
   "metadata": {
    "scrolled": false
   },
   "outputs": [],
   "source": [
    "ds_build_2.to_csv(\"antiwork_massive.csv\",index=False)"
   ]
  },
  {
   "cell_type": "code",
   "execution_count": 58,
   "metadata": {},
   "outputs": [
    {
     "data": {
      "text/plain": [
       "84394"
      ]
     },
     "execution_count": 58,
     "metadata": {},
     "output_type": "execute_result"
    }
   ],
   "source": [
    "len(ds_build_2)"
   ]
  },
  {
   "cell_type": "code",
   "execution_count": 59,
   "metadata": {},
   "outputs": [
    {
     "name": "stdout",
     "output_type": "stream",
     "text": [
      "-rw-r--r--  1 tim  staff   270M Mar 10 13:38 antiwork_massive.csv\r\n"
     ]
    }
   ],
   "source": [
    "!ls -lh antiwork_massive.csv"
   ]
  },
  {
   "cell_type": "code",
   "execution_count": 61,
   "metadata": {},
   "outputs": [
    {
     "data": {
      "text/plain": [
       "1"
      ]
     },
     "execution_count": 61,
     "metadata": {},
     "output_type": "execute_result"
    }
   ],
   "source": [
    "len(problems)"
   ]
  },
  {
   "cell_type": "code",
   "execution_count": 62,
   "metadata": {},
   "outputs": [
    {
     "name": "stdout",
     "output_type": "stream",
     "text": [
      ".DS_Store\n"
     ]
    }
   ],
   "source": [
    "for p in problems:\n",
    "    print(p)"
   ]
  }
 ],
 "metadata": {
  "kernelspec": {
   "display_name": "Python 3",
   "language": "python",
   "name": "python3"
  },
  "language_info": {
   "codemirror_mode": {
    "name": "ipython",
    "version": 3
   },
   "file_extension": ".py",
   "mimetype": "text/x-python",
   "name": "python",
   "nbconvert_exporter": "python",
   "pygments_lexer": "ipython3",
   "version": "3.7.4"
  }
 },
 "nbformat": 4,
 "nbformat_minor": 2
}
