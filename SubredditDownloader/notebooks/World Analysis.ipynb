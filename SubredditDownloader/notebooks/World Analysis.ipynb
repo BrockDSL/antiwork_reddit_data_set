{
 "cells": [
  {
   "cell_type": "code",
   "execution_count": 2,
   "metadata": {},
   "outputs": [],
   "source": [
    "from redditscraper.database import SQLiteConnection"
   ]
  },
  {
   "cell_type": "code",
   "execution_count": 3,
   "metadata": {},
   "outputs": [
    {
     "name": "stderr",
     "output_type": "stream",
     "text": [
      "[nltk_data] Downloading package punkt to /home/jabb0/nltk_data...\n",
      "[nltk_data]   Package punkt is already up-to-date!\n",
      "[nltk_data] Downloading package stopwords to /home/jabb0/nltk_data...\n",
      "[nltk_data]   Package stopwords is already up-to-date!\n"
     ]
    },
    {
     "data": {
      "text/plain": [
       "True"
      ]
     },
     "execution_count": 3,
     "metadata": {},
     "output_type": "execute_result"
    }
   ],
   "source": [
    "import nltk\n",
    "nltk.download('punkt')\n",
    "nltk.download('stopwords')"
   ]
  },
  {
   "cell_type": "code",
   "execution_count": 4,
   "metadata": {},
   "outputs": [],
   "source": [
    "conn = SQLiteConnection('../metabase-data/2020.db')\n",
    "df = conn.read_db_into_pandas()"
   ]
  },
  {
   "cell_type": "code",
   "execution_count": 5,
   "metadata": {},
   "outputs": [],
   "source": [
    "from nltk.corpus import stopwords\n",
    "stop_words = set(stopwords.words(\"english\"))"
   ]
  },
  {
   "cell_type": "code",
   "execution_count": 6,
   "metadata": {},
   "outputs": [],
   "source": [
    "from nltk.tokenize import RegexpTokenizer\n",
    "tokenizer = RegexpTokenizer(r'\\w+')"
   ]
  },
  {
   "cell_type": "code",
   "execution_count": 7,
   "metadata": {},
   "outputs": [],
   "source": [
    "tokenizer_stop = lambda row: [w for w in tokenizer.tokenize(row['title']) if w not in stop_words]"
   ]
  },
  {
   "cell_type": "code",
   "execution_count": 8,
   "metadata": {},
   "outputs": [],
   "source": [
    "df['tokenized_sents'] = df.apply(tokenizer_stop, axis=1)"
   ]
  },
  {
   "cell_type": "code",
   "execution_count": 9,
   "metadata": {},
   "outputs": [
    {
     "data": {
      "text/html": [
       "<div>\n",
       "<style scoped>\n",
       "    .dataframe tbody tr th:only-of-type {\n",
       "        vertical-align: middle;\n",
       "    }\n",
       "\n",
       "    .dataframe tbody tr th {\n",
       "        vertical-align: top;\n",
       "    }\n",
       "\n",
       "    .dataframe thead th {\n",
       "        text-align: right;\n",
       "    }\n",
       "</style>\n",
       "<table border=\"1\" class=\"dataframe\">\n",
       "  <thead>\n",
       "    <tr style=\"text-align: right;\">\n",
       "      <th></th>\n",
       "      <th>id</th>\n",
       "      <th>created_utc</th>\n",
       "      <th>author</th>\n",
       "      <th>author_fullname</th>\n",
       "      <th>domain</th>\n",
       "      <th>title</th>\n",
       "      <th>url</th>\n",
       "      <th>upvote_ratio</th>\n",
       "      <th>score</th>\n",
       "      <th>removed_by_category</th>\n",
       "      <th>downloaded</th>\n",
       "      <th>download_file</th>\n",
       "      <th>downloaded_at</th>\n",
       "      <th>tokenized_sents</th>\n",
       "    </tr>\n",
       "  </thead>\n",
       "  <tbody>\n",
       "    <tr>\n",
       "      <th>0</th>\n",
       "      <td>fsogsk</td>\n",
       "      <td>1585699212</td>\n",
       "      <td>OptiCharts</td>\n",
       "      <td>t2_59v5qxws</td>\n",
       "      <td>youtu.be</td>\n",
       "      <td>Coronavirus outbreak timeline</td>\n",
       "      <td>https://youtu.be/J9Z12Ts7yRA</td>\n",
       "      <td>0.67</td>\n",
       "      <td>1</td>\n",
       "      <td>moderator</td>\n",
       "      <td>0</td>\n",
       "      <td>None</td>\n",
       "      <td>None</td>\n",
       "      <td>[Coronavirus, outbreak, timeline]</td>\n",
       "    </tr>\n",
       "    <tr>\n",
       "      <th>1</th>\n",
       "      <td>fsohei</td>\n",
       "      <td>1585699267</td>\n",
       "      <td>tribunaonlinetq</td>\n",
       "      <td>t2_51kpk3ob</td>\n",
       "      <td>tribunaonline.net</td>\n",
       "      <td>Em Taquaritinga (SP): Publicitário faz declara...</td>\n",
       "      <td>https://www.tribunaonline.net/em-taquaritinga-...</td>\n",
       "      <td>1.00</td>\n",
       "      <td>1</td>\n",
       "      <td>reddit</td>\n",
       "      <td>0</td>\n",
       "      <td>None</td>\n",
       "      <td>None</td>\n",
       "      <td>[Em, Taquaritinga, SP, Publicitário, faz, decl...</td>\n",
       "    </tr>\n",
       "    <tr>\n",
       "      <th>2</th>\n",
       "      <td>fsohtz</td>\n",
       "      <td>1585699310</td>\n",
       "      <td>reddaredevil</td>\n",
       "      <td>t2_16sqlp</td>\n",
       "      <td>reuters.com</td>\n",
       "      <td>28 Texas spring-breakers test positive for cor...</td>\n",
       "      <td>https://www.reuters.com/article/us-health-coro...</td>\n",
       "      <td>1.00</td>\n",
       "      <td>7</td>\n",
       "      <td>moderator</td>\n",
       "      <td>0</td>\n",
       "      <td>None</td>\n",
       "      <td>None</td>\n",
       "      <td>[28, Texas, spring, breakers, test, positive, ...</td>\n",
       "    </tr>\n",
       "    <tr>\n",
       "      <th>3</th>\n",
       "      <td>fsoi6m</td>\n",
       "      <td>1585699346</td>\n",
       "      <td>arsenal_is_best</td>\n",
       "      <td>t2_nq31avb</td>\n",
       "      <td>thehill.com</td>\n",
       "      <td>Trump says he wouldn't have acted differently ...</td>\n",
       "      <td>https://thehill.com/homenews/administration/49...</td>\n",
       "      <td>1.00</td>\n",
       "      <td>11</td>\n",
       "      <td>moderator</td>\n",
       "      <td>0</td>\n",
       "      <td>None</td>\n",
       "      <td>None</td>\n",
       "      <td>[Trump, says, acted, differently, coronavirus,...</td>\n",
       "    </tr>\n",
       "    <tr>\n",
       "      <th>4</th>\n",
       "      <td>fsoizv</td>\n",
       "      <td>1585699431</td>\n",
       "      <td>[deleted]</td>\n",
       "      <td>None</td>\n",
       "      <td>ndtv.com</td>\n",
       "      <td>US Planning To Impose Ban On Travel From Brazi...</td>\n",
       "      <td>https://www.ndtv.com/world-news/coronavirus-pa...</td>\n",
       "      <td>0.80</td>\n",
       "      <td>31</td>\n",
       "      <td>deleted</td>\n",
       "      <td>0</td>\n",
       "      <td>None</td>\n",
       "      <td>None</td>\n",
       "      <td>[US, Planning, To, Impose, Ban, On, Travel, Fr...</td>\n",
       "    </tr>\n",
       "  </tbody>\n",
       "</table>\n",
       "</div>"
      ],
      "text/plain": [
       "       id  created_utc           author author_fullname             domain  \\\n",
       "0  fsogsk   1585699212       OptiCharts     t2_59v5qxws           youtu.be   \n",
       "1  fsohei   1585699267  tribunaonlinetq     t2_51kpk3ob  tribunaonline.net   \n",
       "2  fsohtz   1585699310     reddaredevil       t2_16sqlp        reuters.com   \n",
       "3  fsoi6m   1585699346  arsenal_is_best      t2_nq31avb        thehill.com   \n",
       "4  fsoizv   1585699431        [deleted]            None           ndtv.com   \n",
       "\n",
       "                                               title  \\\n",
       "0                      Coronavirus outbreak timeline   \n",
       "1  Em Taquaritinga (SP): Publicitário faz declara...   \n",
       "2  28 Texas spring-breakers test positive for cor...   \n",
       "3  Trump says he wouldn't have acted differently ...   \n",
       "4  US Planning To Impose Ban On Travel From Brazi...   \n",
       "\n",
       "                                                 url  upvote_ratio  score  \\\n",
       "0                       https://youtu.be/J9Z12Ts7yRA          0.67      1   \n",
       "1  https://www.tribunaonline.net/em-taquaritinga-...          1.00      1   \n",
       "2  https://www.reuters.com/article/us-health-coro...          1.00      7   \n",
       "3  https://thehill.com/homenews/administration/49...          1.00     11   \n",
       "4  https://www.ndtv.com/world-news/coronavirus-pa...          0.80     31   \n",
       "\n",
       "  removed_by_category  downloaded download_file downloaded_at  \\\n",
       "0           moderator           0          None          None   \n",
       "1              reddit           0          None          None   \n",
       "2           moderator           0          None          None   \n",
       "3           moderator           0          None          None   \n",
       "4             deleted           0          None          None   \n",
       "\n",
       "                                     tokenized_sents  \n",
       "0                  [Coronavirus, outbreak, timeline]  \n",
       "1  [Em, Taquaritinga, SP, Publicitário, faz, decl...  \n",
       "2  [28, Texas, spring, breakers, test, positive, ...  \n",
       "3  [Trump, says, acted, differently, coronavirus,...  \n",
       "4  [US, Planning, To, Impose, Ban, On, Travel, Fr...  "
      ]
     },
     "execution_count": 9,
     "metadata": {},
     "output_type": "execute_result"
    }
   ],
   "source": [
    "df.head()"
   ]
  },
  {
   "cell_type": "code",
   "execution_count": 10,
   "metadata": {},
   "outputs": [],
   "source": [
    "df_interested=df[['tokenized_sents', 'removed_by_category']]"
   ]
  },
  {
   "cell_type": "code",
   "execution_count": 11,
   "metadata": {},
   "outputs": [
    {
     "data": {
      "text/html": [
       "<div>\n",
       "<style scoped>\n",
       "    .dataframe tbody tr th:only-of-type {\n",
       "        vertical-align: middle;\n",
       "    }\n",
       "\n",
       "    .dataframe tbody tr th {\n",
       "        vertical-align: top;\n",
       "    }\n",
       "\n",
       "    .dataframe thead th {\n",
       "        text-align: right;\n",
       "    }\n",
       "</style>\n",
       "<table border=\"1\" class=\"dataframe\">\n",
       "  <thead>\n",
       "    <tr style=\"text-align: right;\">\n",
       "      <th></th>\n",
       "      <th>tokenized_sents</th>\n",
       "      <th>removed_by_category</th>\n",
       "    </tr>\n",
       "  </thead>\n",
       "  <tbody>\n",
       "    <tr>\n",
       "      <th>0</th>\n",
       "      <td>[Coronavirus, outbreak, timeline]</td>\n",
       "      <td>moderator</td>\n",
       "    </tr>\n",
       "    <tr>\n",
       "      <th>1</th>\n",
       "      <td>[Em, Taquaritinga, SP, Publicitário, faz, decl...</td>\n",
       "      <td>reddit</td>\n",
       "    </tr>\n",
       "    <tr>\n",
       "      <th>2</th>\n",
       "      <td>[28, Texas, spring, breakers, test, positive, ...</td>\n",
       "      <td>moderator</td>\n",
       "    </tr>\n",
       "    <tr>\n",
       "      <th>3</th>\n",
       "      <td>[Trump, says, acted, differently, coronavirus,...</td>\n",
       "      <td>moderator</td>\n",
       "    </tr>\n",
       "    <tr>\n",
       "      <th>4</th>\n",
       "      <td>[US, Planning, To, Impose, Ban, On, Travel, Fr...</td>\n",
       "      <td>deleted</td>\n",
       "    </tr>\n",
       "  </tbody>\n",
       "</table>\n",
       "</div>"
      ],
      "text/plain": [
       "                                     tokenized_sents removed_by_category\n",
       "0                  [Coronavirus, outbreak, timeline]           moderator\n",
       "1  [Em, Taquaritinga, SP, Publicitário, faz, decl...              reddit\n",
       "2  [28, Texas, spring, breakers, test, positive, ...           moderator\n",
       "3  [Trump, says, acted, differently, coronavirus,...           moderator\n",
       "4  [US, Planning, To, Impose, Ban, On, Travel, Fr...             deleted"
      ]
     },
     "execution_count": 11,
     "metadata": {},
     "output_type": "execute_result"
    }
   ],
   "source": [
    "df_interested.head()"
   ]
  },
  {
   "cell_type": "code",
   "execution_count": 12,
   "metadata": {},
   "outputs": [],
   "source": [
    "from collections import Counter"
   ]
  },
  {
   "cell_type": "code",
   "execution_count": 36,
   "metadata": {},
   "outputs": [],
   "source": [
    "removed_counts = Counter()\n",
    "non_removed_counts = Counter()\n",
    "\n",
    "# Do word counting\n",
    "for _, row in df_interested.iterrows():\n",
    "    if row[\"removed_by_category\"] is not None:\n",
    "        for word in row[\"tokenized_sents\"]:\n",
    "            removed_counts[word] += 1\n",
    "    else:\n",
    "        for word in row[\"tokenized_sents\"]:\n",
    "            non_removed_counts[word] += 1"
   ]
  },
  {
   "cell_type": "code",
   "execution_count": 37,
   "metadata": {},
   "outputs": [
    {
     "data": {
      "text/plain": [
       "[('Trump', 16315),\n",
       " ('China', 16239),\n",
       " ('The', 15012),\n",
       " ('says', 14041),\n",
       " ('US', 13791),\n",
       " ('Hong', 10520),\n",
       " ('Kong', 10443),\n",
       " ('coronavirus', 10015),\n",
       " ('U', 9596),\n",
       " ('S', 8884)]"
      ]
     },
     "execution_count": 37,
     "metadata": {},
     "output_type": "execute_result"
    }
   ],
   "source": [
    "non_removed_counts.most_common(10)"
   ]
  },
  {
   "cell_type": "code",
   "execution_count": 38,
   "metadata": {},
   "outputs": [
    {
     "data": {
      "text/plain": [
       "[('Trump', 28464),\n",
       " ('The', 23576),\n",
       " ('https', 22435),\n",
       " ('coronavirus', 21606),\n",
       " ('19', 17580),\n",
       " ('China', 17367),\n",
       " ('de', 16609),\n",
       " ('googul', 16575),\n",
       " ('US', 16143),\n",
       " ('2020', 15430)]"
      ]
     },
     "execution_count": 38,
     "metadata": {},
     "output_type": "execute_result"
    }
   ],
   "source": [
    "removed_counts.most_common(10)"
   ]
  },
  {
   "cell_type": "code",
   "execution_count": 39,
   "metadata": {},
   "outputs": [],
   "source": [
    "total = removed_counts + non_removed_counts"
   ]
  },
  {
   "cell_type": "code",
   "execution_count": 40,
   "metadata": {},
   "outputs": [],
   "source": [
    "removed_counts.subtract(non_removed_counts)"
   ]
  },
  {
   "cell_type": "code",
   "execution_count": 41,
   "metadata": {},
   "outputs": [
    {
     "data": {
      "text/plain": [
       "[('https', 21440),\n",
       " ('googul', 16575),\n",
       " ('de', 14523),\n",
       " ('2020', 13776),\n",
       " ('co', 13058),\n",
       " ('Trump', 12149),\n",
       " ('coronavirus', 11591),\n",
       " ('19', 11257),\n",
       " ('Coronavirus', 10374),\n",
       " ('xyz', 10009)]"
      ]
     },
     "execution_count": 41,
     "metadata": {},
     "output_type": "execute_result"
    }
   ],
   "source": [
    "removed_counts.most_common(10)"
   ]
  },
  {
   "cell_type": "code",
   "execution_count": 53,
   "metadata": {},
   "outputs": [],
   "source": [
    "more_removed_dict = dict(removed_counts)\n",
    "total_dict = dict(total)\n",
    "\n",
    "removed_ratios = {}\n",
    "\n",
    "for k, v in more_removed_dict.items():\n",
    "    if total_dict[k] > 100:\n",
    "        removed_ratios[k] = v / total_dict[k]"
   ]
  },
  {
   "cell_type": "code",
   "execution_count": 43,
   "metadata": {},
   "outputs": [],
   "source": [
    "# more_removed_dict has positive entries if the word is more removed than not and negative if it is less removed than not\n",
    "# removed ratios scales this by the total occurences of a word\n",
    "more_removed_lst = sorted(more_removed_dict.items(), key=lambda x: x[1])"
   ]
  },
  {
   "cell_type": "code",
   "execution_count": 45,
   "metadata": {},
   "outputs": [
    {
     "data": {
      "text/plain": [
       "[('Hong', -5432),\n",
       " ('Kong', -5416),\n",
       " ('2019', -3445),\n",
       " ('Iran', -2777),\n",
       " ('UK', -2620),\n",
       " ('Syria', -2230),\n",
       " ('deal', -2203),\n",
       " ('Brexit', -2199),\n",
       " ('EU', -2162),\n",
       " ('climate', -2133),\n",
       " ('Turkey', -2023),\n",
       " ('government', -1929),\n",
       " ('protests', -1700),\n",
       " ('UN', -1693),\n",
       " ('protesters', -1635),\n",
       " ('says', -1613),\n",
       " ('Japan', -1592),\n",
       " ('Saudi', -1553),\n",
       " ('Russia', -1508),\n",
       " ('Kashmir', -1487),\n",
       " ('trade', -1442),\n",
       " ('Israel', -1380),\n",
       " ('said', -1306),\n",
       " ('Korea', -1277),\n",
       " ('minister', -1108),\n",
       " ('leader', -1084),\n",
       " ('oil', -1073),\n",
       " ('military', -1044),\n",
       " ('forces', -970),\n",
       " ('police', -966),\n",
       " ('Germany', -938),\n",
       " ('talks', -907),\n",
       " ('war', -901),\n",
       " ('protest', -900),\n",
       " ('attack', -892),\n",
       " ('Israeli', -879),\n",
       " ('nuclear', -849),\n",
       " ('Syrian', -843),\n",
       " ('Turkish', -829),\n",
       " ('Johnson', -816)]"
      ]
     },
     "execution_count": 45,
     "metadata": {},
     "output_type": "execute_result"
    }
   ],
   "source": [
    "# Least removed\n",
    "more_removed_lst[:40]"
   ]
  },
  {
   "cell_type": "code",
   "execution_count": 46,
   "metadata": {},
   "outputs": [
    {
     "data": {
      "text/plain": [
       "[('https', 21440),\n",
       " ('googul', 16575),\n",
       " ('de', 14523),\n",
       " ('2020', 13776),\n",
       " ('co', 13058),\n",
       " ('Trump', 12149),\n",
       " ('coronavirus', 11591),\n",
       " ('19', 11257),\n",
       " ('Coronavirus', 10374),\n",
       " ('xyz', 10009),\n",
       " ('The', 8564),\n",
       " ('tt', 8344),\n",
       " ('ift', 8344),\n",
       " ('COVID', 7593),\n",
       " ('Crack', 6209),\n",
       " ('GOOgul', 5981),\n",
       " ('Download', 5783),\n",
       " ('Free', 5335),\n",
       " ('usa', 5015),\n",
       " ('How', 5000),\n",
       " ('2KUz4QH', 4965),\n",
       " ('la', 4880),\n",
       " ('Covid', 4848),\n",
       " ('2', 4416),\n",
       " ('1', 4322),\n",
       " ('A', 4162),\n",
       " ('I', 4060),\n",
       " ('en', 3985),\n",
       " ('Market', 3982),\n",
       " ('0', 3781),\n",
       " ('Key', 3617),\n",
       " ('New', 3564),\n",
       " ('Biden', 3459),\n",
       " ('5', 3434),\n",
       " ('To', 3400),\n",
       " ('News', 3340),\n",
       " ('3', 3305),\n",
       " ('র', 3065),\n",
       " ('In', 3027)]"
      ]
     },
     "execution_count": 46,
     "metadata": {},
     "output_type": "execute_result"
    }
   ],
   "source": [
    "# Most removed\n",
    "more_removed_lst[:-40:-1]"
   ]
  },
  {
   "cell_type": "code",
   "execution_count": 54,
   "metadata": {},
   "outputs": [],
   "source": [
    "removed_ratios_lst = sorted(removed_ratios.items(), key=lambda x: x[1])"
   ]
  },
  {
   "cell_type": "code",
   "execution_count": 55,
   "metadata": {},
   "outputs": [
    {
     "data": {
      "text/plain": [
       "[('9538', -1.0),\n",
       " ('6588', -1.0),\n",
       " ('EncontraBrasil', -1.0),\n",
       " ('Stade', -1.0),\n",
       " ('FINALS', -1.0),\n",
       " ('coupons', -0.9953051643192489),\n",
       " ('00pm', -0.9949937421777222),\n",
       " ('BST', -0.994475138121547),\n",
       " ('丨', -0.9878419452887538),\n",
       " ('Macaque', -0.9864864864864865),\n",
       " ('گردد', -0.9655172413793104),\n",
       " ('00am', -0.9651162790697675),\n",
       " ('coupon', -0.9627507163323782),\n",
       " ('Equestria', -0.9552238805970149),\n",
       " ('QuickBooks', -0.9461883408071748),\n",
       " ('Kawhi', -0.9421965317919075),\n",
       " ('Pity', -0.9236641221374046),\n",
       " ('Pinned', -0.9212121212121213),\n",
       " ('EST', -0.9198396793587175),\n",
       " ('Sep', -0.9177377892030848),\n",
       " ('961', -0.9130434782608695),\n",
       " ('Observers', -0.9101123595505618),\n",
       " ('DAZN', -0.9041916167664671),\n",
       " ('EncontraSaoPaulo', -0.8865979381443299),\n",
       " ('Venue', -0.8846597462514417),\n",
       " ('YPG', -0.8811881188118812),\n",
       " ('Warriors', -0.8737373737373737),\n",
       " ('Gulberg', -0.8701298701298701),\n",
       " ('Offseason', -0.8596491228070176),\n",
       " ('Deus', -0.856353591160221),\n",
       " ('Kyrie', -0.855072463768116),\n",
       " ('Astros', -0.8522167487684729),\n",
       " ('YA', -0.8504672897196262),\n",
       " ('Dorian', -0.8484848484848485),\n",
       " ('FS1', -0.8478260869565217),\n",
       " ('Mugabe', -0.8348623853211009),\n",
       " ('674', -0.8275862068965517),\n",
       " ('Pinterest', -0.8258426966292135),\n",
       " ('ET', -0.81),\n",
       " ('Finals', -0.8078602620087336)]"
      ]
     },
     "execution_count": 55,
     "metadata": {},
     "output_type": "execute_result"
    }
   ],
   "source": [
    "# Least removed\n",
    "# You can see that these are outliers that are irrelevant\n",
    "removed_ratios_lst[:40]"
   ]
  },
  {
   "cell_type": "code",
   "execution_count": 56,
   "metadata": {},
   "outputs": [
    {
     "data": {
      "text/plain": [
       "[('sns', 1.0),\n",
       " ('정치', 1.0),\n",
       " ('음악', 1.0),\n",
       " ('음악중심', 1.0),\n",
       " ('Coney', 1.0),\n",
       " ('την', 1.0),\n",
       " ('Kenosha', 1.0),\n",
       " ('agoimage', 1.0),\n",
       " ('Checkersaga', 1.0),\n",
       " ('义云高大师', 1.0),\n",
       " ('第三世多杰羌佛', 1.0),\n",
       " ('画作以每尺', 1.0),\n",
       " ('万美元成交', 1.0),\n",
       " ('万元流标', 1.0),\n",
       " ('義雲高大師', 1.0),\n",
       " ('獲英頒授', 1.0),\n",
       " ('XenForo', 1.0),\n",
       " ('οι', 1.0),\n",
       " ('με', 1.0),\n",
       " ('το', 1.0),\n",
       " ('ο', 1.0),\n",
       " ('στα', 1.0),\n",
       " ('στο', 1.0),\n",
       " ('Τι', 1.0),\n",
       " ('τον', 1.0),\n",
       " ('θα', 1.0),\n",
       " ('τα', 1.0),\n",
       " ('κρούσματα', 1.0),\n",
       " ('Κορονοϊός', 1.0),\n",
       " ('Τα', 1.0),\n",
       " ('Το', 1.0),\n",
       " ('των', 1.0),\n",
       " ('στον', 1.0),\n",
       " ('Ο', 1.0),\n",
       " ('η', 1.0),\n",
       " ('Θεσσαλονίκη', 1.0),\n",
       " ('τη', 1.0),\n",
       " ('σήμερα', 1.0),\n",
       " ('a7', 1.0),\n",
       " ('KAILASA', 1.0)]"
      ]
     },
     "execution_count": 56,
     "metadata": {},
     "output_type": "execute_result"
    }
   ],
   "source": [
    "# Most removed\n",
    "# You can see that these are outliers that are irrelevant\n",
    "removed_ratios_lst[-40:]"
   ]
  },
  {
   "cell_type": "code",
   "execution_count": null,
   "metadata": {},
   "outputs": [],
   "source": []
  }
 ],
 "metadata": {
  "kernelspec": {
   "display_name": "Python 3",
   "language": "python",
   "name": "python3"
  },
  "language_info": {
   "codemirror_mode": {
    "name": "ipython",
    "version": 3
   },
   "file_extension": ".py",
   "mimetype": "text/x-python",
   "name": "python",
   "nbconvert_exporter": "python",
   "pygments_lexer": "ipython3",
   "version": "3.8.5"
  }
 },
 "nbformat": 4,
 "nbformat_minor": 4
}
